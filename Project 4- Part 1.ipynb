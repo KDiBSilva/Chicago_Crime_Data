{
 "cells": [
  {
   "cell_type": "markdown",
   "id": "641c8bec",
   "metadata": {},
   "source": [
    "# Chicago Crime Data\n",
    "\n",
    "Kristina DiBella-Silva"
   ]
  },
  {
   "cell_type": "code",
   "execution_count": 1,
   "id": "866de9aa",
   "metadata": {},
   "outputs": [],
   "source": [
    "import pandas as pd\n",
    "import numpy as np\n",
    "\n",
    "## Filter ALL warnings\n",
    "import warnings\n",
    "warnings.filterwarnings('ignore')"
   ]
  },
  {
   "cell_type": "code",
   "execution_count": 2,
   "id": "f551c094",
   "metadata": {},
   "outputs": [
    {
     "data": {
      "text/html": [
       "<div>\n",
       "<style scoped>\n",
       "    .dataframe tbody tr th:only-of-type {\n",
       "        vertical-align: middle;\n",
       "    }\n",
       "\n",
       "    .dataframe tbody tr th {\n",
       "        vertical-align: top;\n",
       "    }\n",
       "\n",
       "    .dataframe thead th {\n",
       "        text-align: right;\n",
       "    }\n",
       "</style>\n",
       "<table border=\"1\" class=\"dataframe\">\n",
       "  <thead>\n",
       "    <tr style=\"text-align: right;\">\n",
       "      <th></th>\n",
       "      <th>ID</th>\n",
       "      <th>Date</th>\n",
       "      <th>Primary Type</th>\n",
       "      <th>Description</th>\n",
       "      <th>Location Description</th>\n",
       "      <th>Arrest</th>\n",
       "      <th>Domestic</th>\n",
       "      <th>Beat</th>\n",
       "      <th>District</th>\n",
       "      <th>Ward</th>\n",
       "      <th>Latitude</th>\n",
       "      <th>Longitude</th>\n",
       "      <th>Historical Wards 2003-2015</th>\n",
       "      <th>Zip Codes</th>\n",
       "      <th>Community Areas</th>\n",
       "      <th>Census Tracts</th>\n",
       "      <th>Wards</th>\n",
       "      <th>Boundaries - ZIP Codes</th>\n",
       "      <th>Police Districts</th>\n",
       "      <th>Police Beats</th>\n",
       "    </tr>\n",
       "  </thead>\n",
       "  <tbody>\n",
       "    <tr>\n",
       "      <th>0</th>\n",
       "      <td>5462733</td>\n",
       "      <td>01/01/2001 01:00:00 AM</td>\n",
       "      <td>OFFENSE INVOLVING CHILDREN</td>\n",
       "      <td>AGG CRIM SEX ABUSE FAM MEMBER</td>\n",
       "      <td>RESIDENCE</td>\n",
       "      <td>False</td>\n",
       "      <td>True</td>\n",
       "      <td>233</td>\n",
       "      <td>2.0</td>\n",
       "      <td>20.0</td>\n",
       "      <td>41.789084</td>\n",
       "      <td>-87.620849</td>\n",
       "      <td>53.0</td>\n",
       "      <td>22260.0</td>\n",
       "      <td>7.0</td>\n",
       "      <td>403.0</td>\n",
       "      <td>4.0</td>\n",
       "      <td>60.0</td>\n",
       "      <td>24.0</td>\n",
       "      <td>268.0</td>\n",
       "    </tr>\n",
       "    <tr>\n",
       "      <th>1</th>\n",
       "      <td>1311123</td>\n",
       "      <td>01/01/2001 01:00:00 AM</td>\n",
       "      <td>CRIMINAL DAMAGE</td>\n",
       "      <td>TO VEHICLE</td>\n",
       "      <td>STREET</td>\n",
       "      <td>False</td>\n",
       "      <td>False</td>\n",
       "      <td>1223</td>\n",
       "      <td>12.0</td>\n",
       "      <td>NaN</td>\n",
       "      <td>41.854014</td>\n",
       "      <td>-87.681909</td>\n",
       "      <td>8.0</td>\n",
       "      <td>14920.0</td>\n",
       "      <td>33.0</td>\n",
       "      <td>4.0</td>\n",
       "      <td>26.0</td>\n",
       "      <td>43.0</td>\n",
       "      <td>15.0</td>\n",
       "      <td>121.0</td>\n",
       "    </tr>\n",
       "    <tr>\n",
       "      <th>2</th>\n",
       "      <td>1311144</td>\n",
       "      <td>01/01/2001 01:00:00 AM</td>\n",
       "      <td>CRIMINAL DAMAGE</td>\n",
       "      <td>TO VEHICLE</td>\n",
       "      <td>STREET</td>\n",
       "      <td>False</td>\n",
       "      <td>False</td>\n",
       "      <td>2413</td>\n",
       "      <td>24.0</td>\n",
       "      <td>NaN</td>\n",
       "      <td>41.996666</td>\n",
       "      <td>-87.685110</td>\n",
       "      <td>42.0</td>\n",
       "      <td>4450.0</td>\n",
       "      <td>20.0</td>\n",
       "      <td>53.0</td>\n",
       "      <td>27.0</td>\n",
       "      <td>50.0</td>\n",
       "      <td>11.0</td>\n",
       "      <td>52.0</td>\n",
       "    </tr>\n",
       "    <tr>\n",
       "      <th>3</th>\n",
       "      <td>1311226</td>\n",
       "      <td>01/01/2001 01:00:00 AM</td>\n",
       "      <td>CRIMINAL DAMAGE</td>\n",
       "      <td>TO VEHICLE</td>\n",
       "      <td>STREET</td>\n",
       "      <td>False</td>\n",
       "      <td>False</td>\n",
       "      <td>1913</td>\n",
       "      <td>19.0</td>\n",
       "      <td>NaN</td>\n",
       "      <td>41.945072</td>\n",
       "      <td>-87.684629</td>\n",
       "      <td>13.0</td>\n",
       "      <td>21538.0</td>\n",
       "      <td>46.0</td>\n",
       "      <td>646.0</td>\n",
       "      <td>18.0</td>\n",
       "      <td>39.0</td>\n",
       "      <td>5.0</td>\n",
       "      <td>21.0</td>\n",
       "    </tr>\n",
       "    <tr>\n",
       "      <th>4</th>\n",
       "      <td>1311269</td>\n",
       "      <td>01/01/2001 01:00:00 AM</td>\n",
       "      <td>CRIMINAL DAMAGE</td>\n",
       "      <td>TO PROPERTY</td>\n",
       "      <td>RESIDENCE</td>\n",
       "      <td>False</td>\n",
       "      <td>False</td>\n",
       "      <td>421</td>\n",
       "      <td>4.0</td>\n",
       "      <td>NaN</td>\n",
       "      <td>41.756690</td>\n",
       "      <td>-87.561625</td>\n",
       "      <td>43.0</td>\n",
       "      <td>22538.0</td>\n",
       "      <td>39.0</td>\n",
       "      <td>245.0</td>\n",
       "      <td>37.0</td>\n",
       "      <td>24.0</td>\n",
       "      <td>19.0</td>\n",
       "      <td>225.0</td>\n",
       "    </tr>\n",
       "  </tbody>\n",
       "</table>\n",
       "</div>"
      ],
      "text/plain": [
       "        ID                    Date                Primary Type  \\\n",
       "0  5462733  01/01/2001 01:00:00 AM  OFFENSE INVOLVING CHILDREN   \n",
       "1  1311123  01/01/2001 01:00:00 AM             CRIMINAL DAMAGE   \n",
       "2  1311144  01/01/2001 01:00:00 AM             CRIMINAL DAMAGE   \n",
       "3  1311226  01/01/2001 01:00:00 AM             CRIMINAL DAMAGE   \n",
       "4  1311269  01/01/2001 01:00:00 AM             CRIMINAL DAMAGE   \n",
       "\n",
       "                     Description Location Description  Arrest  Domestic  Beat  \\\n",
       "0  AGG CRIM SEX ABUSE FAM MEMBER            RESIDENCE   False      True   233   \n",
       "1                     TO VEHICLE               STREET   False     False  1223   \n",
       "2                     TO VEHICLE               STREET   False     False  2413   \n",
       "3                     TO VEHICLE               STREET   False     False  1913   \n",
       "4                    TO PROPERTY            RESIDENCE   False     False   421   \n",
       "\n",
       "   District  Ward   Latitude  Longitude  Historical Wards 2003-2015  \\\n",
       "0       2.0  20.0  41.789084 -87.620849                        53.0   \n",
       "1      12.0   NaN  41.854014 -87.681909                         8.0   \n",
       "2      24.0   NaN  41.996666 -87.685110                        42.0   \n",
       "3      19.0   NaN  41.945072 -87.684629                        13.0   \n",
       "4       4.0   NaN  41.756690 -87.561625                        43.0   \n",
       "\n",
       "   Zip Codes  Community Areas  Census Tracts  Wards  Boundaries - ZIP Codes  \\\n",
       "0    22260.0              7.0          403.0    4.0                    60.0   \n",
       "1    14920.0             33.0            4.0   26.0                    43.0   \n",
       "2     4450.0             20.0           53.0   27.0                    50.0   \n",
       "3    21538.0             46.0          646.0   18.0                    39.0   \n",
       "4    22538.0             39.0          245.0   37.0                    24.0   \n",
       "\n",
       "   Police Districts  Police Beats  \n",
       "0              24.0         268.0  \n",
       "1              15.0         121.0  \n",
       "2              11.0          52.0  \n",
       "3               5.0          21.0  \n",
       "4              19.0         225.0  "
      ]
     },
     "execution_count": 2,
     "metadata": {},
     "output_type": "execute_result"
    }
   ],
   "source": [
    "# CSV\n",
    "df = pd.read_csv('Data/Chicago/combined_crime_data.csv.gz',lineterminator='\\n')\n",
    "df.head()"
   ]
  },
  {
   "cell_type": "code",
   "execution_count": 14,
   "id": "cf55687f",
   "metadata": {},
   "outputs": [
    {
     "data": {
      "text/plain": [
       "ID                            0\n",
       "Date                          0\n",
       "Primary Type                  0\n",
       "Description                   0\n",
       "Location Description          0\n",
       "Arrest                        0\n",
       "Domestic                      0\n",
       "Beat                          0\n",
       "District                      0\n",
       "Ward                          9\n",
       "Latitude                      6\n",
       "Longitude                     6\n",
       "Historical Wards 2003-2015    6\n",
       "Zip Codes                     6\n",
       "Community Areas               6\n",
       "Census Tracts                 6\n",
       "Wards                         6\n",
       "Boundaries - ZIP Codes        6\n",
       "Police Districts              6\n",
       "Police Beats                  6\n",
       "US Holiday                    0\n",
       "MD Holiday                    0\n",
       "Is_Holiday                    0\n",
       "dtype: int64"
      ]
     },
     "execution_count": 14,
     "metadata": {},
     "output_type": "execute_result"
    }
   ],
   "source": [
    "# Missing values\n",
    "df.isna().sum()"
   ]
  },
  {
   "cell_type": "code",
   "execution_count": 16,
   "id": "0cc68fc4",
   "metadata": {},
   "outputs": [
    {
     "data": {
      "text/plain": [
       "(115, 23)"
      ]
     },
     "execution_count": 16,
     "metadata": {},
     "output_type": "execute_result"
    }
   ],
   "source": [
    "# dataset shape\n",
    "df.shape"
   ]
  },
  {
   "cell_type": "code",
   "execution_count": 17,
   "id": "198bdac5",
   "metadata": {},
   "outputs": [],
   "source": [
    "# dropping null values\n",
    "df = df.dropna()"
   ]
  },
  {
   "cell_type": "code",
   "execution_count": null,
   "id": "6e3db113",
   "metadata": {},
   "outputs": [],
   "source": [
    "# dropping unnecessary columns"
   ]
  },
  {
   "cell_type": "markdown",
   "id": "9285d380",
   "metadata": {},
   "source": [
    "## Supplemental Data: Holiday Data"
   ]
  },
  {
   "cell_type": "code",
   "execution_count": 4,
   "id": "b75e7c40",
   "metadata": {},
   "outputs": [
    {
     "name": "stdout",
     "output_type": "stream",
     "text": [
      "Collecting holidays\n",
      "  Downloading holidays-0.29-py3-none-any.whl (695 kB)\n",
      "\u001b[2K     \u001b[90m━━━━━━━━━━━━━━━━━━━━━━━━━━━━━━━━━━━━━━━\u001b[0m \u001b[32m695.7/695.7 kB\u001b[0m \u001b[31m2.6 MB/s\u001b[0m eta \u001b[36m0:00:00\u001b[0m00:01\u001b[0m00:01\u001b[0m\n",
      "\u001b[?25hRequirement already satisfied: python-dateutil in /opt/homebrew/Caskroom/miniforge/base/envs/dojo-env/lib/python3.9/site-packages (from holidays) (2.8.2)\n",
      "Requirement already satisfied: six>=1.5 in /opt/homebrew/Caskroom/miniforge/base/envs/dojo-env/lib/python3.9/site-packages (from python-dateutil->holidays) (1.16.0)\n",
      "Installing collected packages: holidays\n",
      "Successfully installed holidays-0.29\n"
     ]
    }
   ],
   "source": [
    "!pip install holidays"
   ]
  },
  {
   "cell_type": "code",
   "execution_count": 5,
   "id": "c0d53558",
   "metadata": {},
   "outputs": [],
   "source": [
    "import holidays\n",
    "import datetime as dt\n",
    "from holidays import country_holidays"
   ]
  },
  {
   "cell_type": "code",
   "execution_count": 6,
   "id": "42f0bf2f",
   "metadata": {},
   "outputs": [
    {
     "data": {
      "text/plain": [
       "DatetimeIndex(['2001-01-01 01:00:00', '2001-01-02 01:00:00',\n",
       "               '2001-01-03 01:00:00', '2001-01-04 01:00:00',\n",
       "               '2001-01-05 01:00:00', '2001-01-06 01:00:00',\n",
       "               '2001-01-07 01:00:00', '2001-01-08 01:00:00',\n",
       "               '2001-01-09 01:00:00', '2001-01-10 01:00:00',\n",
       "               ...\n",
       "               '2022-12-23 01:00:00', '2022-12-24 01:00:00',\n",
       "               '2022-12-25 01:00:00', '2022-12-26 01:00:00',\n",
       "               '2022-12-27 01:00:00', '2022-12-28 01:00:00',\n",
       "               '2022-12-29 01:00:00', '2022-12-30 01:00:00',\n",
       "               '2022-12-31 01:00:00', '2023-01-01 01:00:00'],\n",
       "              dtype='datetime64[ns]', length=8036, freq='D')"
      ]
     },
     "execution_count": 6,
     "metadata": {},
     "output_type": "execute_result"
    }
   ],
   "source": [
    "## making a date range that covers full dataset\n",
    "all_days = pd.date_range(df[\"Date\"].min(), df[\"Date\"].max())\n",
    "all_days\n"
   ]
  },
  {
   "cell_type": "code",
   "execution_count": 7,
   "id": "c1f37558",
   "metadata": {},
   "outputs": [
    {
     "data": {
      "text/plain": [
       "holidays.country_holidays('US')"
      ]
     },
     "execution_count": 7,
     "metadata": {},
     "output_type": "execute_result"
    }
   ],
   "source": [
    "# Getting General US Holidays\n",
    "## Create an instance of the US country holidays.\n",
    "us_holidays = country_holidays('US')\n",
    "us_holidays"
   ]
  },
  {
   "cell_type": "code",
   "execution_count": 8,
   "id": "f06822d8",
   "metadata": {},
   "outputs": [
    {
     "name": "stdout",
     "output_type": "stream",
     "text": [
      "2001-01-01 01:00:00\n"
     ]
    },
    {
     "data": {
      "text/plain": [
       "\"New Year's Day\""
      ]
     },
     "execution_count": 8,
     "metadata": {},
     "output_type": "execute_result"
    }
   ],
   "source": [
    "## Testing first date\n",
    "print(all_days[0])\n",
    "us_holidays.get(all_days[0])"
   ]
  },
  {
   "cell_type": "code",
   "execution_count": 9,
   "id": "4f79c22a",
   "metadata": {},
   "outputs": [
    {
     "data": {
      "text/plain": [
       "[\"New Year's Day\", None, None, None, None]"
      ]
     },
     "execution_count": 9,
     "metadata": {},
     "output_type": "execute_result"
    }
   ],
   "source": [
    "## Getting us holidays for all dates\n",
    "holiday_list = [us_holidays.get(day) for day in all_days]\n",
    "holiday_list[:5]"
   ]
  },
  {
   "cell_type": "code",
   "execution_count": 10,
   "id": "cf5187b6",
   "metadata": {},
   "outputs": [
    {
     "data": {
      "text/plain": [
       "holidays.country_holidays('US', subdiv='MD')"
      ]
     },
     "execution_count": 10,
     "metadata": {},
     "output_type": "execute_result"
    }
   ],
   "source": [
    "# Getting Sub-Region Holidays\n",
    "## For a specific subdivisions (e.g. state or province):\n",
    "md_holidays = country_holidays('US', subdiv='MD')\n",
    "md_holidays\n"
   ]
  },
  {
   "cell_type": "code",
   "execution_count": 11,
   "id": "24cfa70c",
   "metadata": {},
   "outputs": [
    {
     "data": {
      "text/html": [
       "<div>\n",
       "<style scoped>\n",
       "    .dataframe tbody tr th:only-of-type {\n",
       "        vertical-align: middle;\n",
       "    }\n",
       "\n",
       "    .dataframe tbody tr th {\n",
       "        vertical-align: top;\n",
       "    }\n",
       "\n",
       "    .dataframe thead th {\n",
       "        text-align: right;\n",
       "    }\n",
       "</style>\n",
       "<table border=\"1\" class=\"dataframe\">\n",
       "  <thead>\n",
       "    <tr style=\"text-align: right;\">\n",
       "      <th></th>\n",
       "      <th>ID</th>\n",
       "      <th>Date</th>\n",
       "      <th>Primary Type</th>\n",
       "      <th>Description</th>\n",
       "      <th>Location Description</th>\n",
       "      <th>Arrest</th>\n",
       "      <th>Domestic</th>\n",
       "      <th>Beat</th>\n",
       "      <th>District</th>\n",
       "      <th>Ward</th>\n",
       "      <th>...</th>\n",
       "      <th>Historical Wards 2003-2015</th>\n",
       "      <th>Zip Codes</th>\n",
       "      <th>Community Areas</th>\n",
       "      <th>Census Tracts</th>\n",
       "      <th>Wards</th>\n",
       "      <th>Boundaries - ZIP Codes</th>\n",
       "      <th>Police Districts</th>\n",
       "      <th>Police Beats</th>\n",
       "      <th>US Holiday</th>\n",
       "      <th>MD Holiday</th>\n",
       "    </tr>\n",
       "  </thead>\n",
       "  <tbody>\n",
       "    <tr>\n",
       "      <th>0</th>\n",
       "      <td>5462733</td>\n",
       "      <td>01/01/2001 01:00:00 AM</td>\n",
       "      <td>OFFENSE INVOLVING CHILDREN</td>\n",
       "      <td>AGG CRIM SEX ABUSE FAM MEMBER</td>\n",
       "      <td>RESIDENCE</td>\n",
       "      <td>False</td>\n",
       "      <td>True</td>\n",
       "      <td>233</td>\n",
       "      <td>2.0</td>\n",
       "      <td>20.0</td>\n",
       "      <td>...</td>\n",
       "      <td>53.0</td>\n",
       "      <td>22260.0</td>\n",
       "      <td>7.0</td>\n",
       "      <td>403.0</td>\n",
       "      <td>4.0</td>\n",
       "      <td>60.0</td>\n",
       "      <td>24.0</td>\n",
       "      <td>268.0</td>\n",
       "      <td>New Year's Day</td>\n",
       "      <td>New Year's Day</td>\n",
       "    </tr>\n",
       "    <tr>\n",
       "      <th>1</th>\n",
       "      <td>1311123</td>\n",
       "      <td>01/01/2001 01:00:00 AM</td>\n",
       "      <td>CRIMINAL DAMAGE</td>\n",
       "      <td>TO VEHICLE</td>\n",
       "      <td>STREET</td>\n",
       "      <td>False</td>\n",
       "      <td>False</td>\n",
       "      <td>1223</td>\n",
       "      <td>12.0</td>\n",
       "      <td>NaN</td>\n",
       "      <td>...</td>\n",
       "      <td>8.0</td>\n",
       "      <td>14920.0</td>\n",
       "      <td>33.0</td>\n",
       "      <td>4.0</td>\n",
       "      <td>26.0</td>\n",
       "      <td>43.0</td>\n",
       "      <td>15.0</td>\n",
       "      <td>121.0</td>\n",
       "      <td>New Year's Day</td>\n",
       "      <td>New Year's Day</td>\n",
       "    </tr>\n",
       "    <tr>\n",
       "      <th>2</th>\n",
       "      <td>1311144</td>\n",
       "      <td>01/01/2001 01:00:00 AM</td>\n",
       "      <td>CRIMINAL DAMAGE</td>\n",
       "      <td>TO VEHICLE</td>\n",
       "      <td>STREET</td>\n",
       "      <td>False</td>\n",
       "      <td>False</td>\n",
       "      <td>2413</td>\n",
       "      <td>24.0</td>\n",
       "      <td>NaN</td>\n",
       "      <td>...</td>\n",
       "      <td>42.0</td>\n",
       "      <td>4450.0</td>\n",
       "      <td>20.0</td>\n",
       "      <td>53.0</td>\n",
       "      <td>27.0</td>\n",
       "      <td>50.0</td>\n",
       "      <td>11.0</td>\n",
       "      <td>52.0</td>\n",
       "      <td>New Year's Day</td>\n",
       "      <td>New Year's Day</td>\n",
       "    </tr>\n",
       "    <tr>\n",
       "      <th>3</th>\n",
       "      <td>1311226</td>\n",
       "      <td>01/01/2001 01:00:00 AM</td>\n",
       "      <td>CRIMINAL DAMAGE</td>\n",
       "      <td>TO VEHICLE</td>\n",
       "      <td>STREET</td>\n",
       "      <td>False</td>\n",
       "      <td>False</td>\n",
       "      <td>1913</td>\n",
       "      <td>19.0</td>\n",
       "      <td>NaN</td>\n",
       "      <td>...</td>\n",
       "      <td>13.0</td>\n",
       "      <td>21538.0</td>\n",
       "      <td>46.0</td>\n",
       "      <td>646.0</td>\n",
       "      <td>18.0</td>\n",
       "      <td>39.0</td>\n",
       "      <td>5.0</td>\n",
       "      <td>21.0</td>\n",
       "      <td>New Year's Day</td>\n",
       "      <td>New Year's Day</td>\n",
       "    </tr>\n",
       "    <tr>\n",
       "      <th>4</th>\n",
       "      <td>1311269</td>\n",
       "      <td>01/01/2001 01:00:00 AM</td>\n",
       "      <td>CRIMINAL DAMAGE</td>\n",
       "      <td>TO PROPERTY</td>\n",
       "      <td>RESIDENCE</td>\n",
       "      <td>False</td>\n",
       "      <td>False</td>\n",
       "      <td>421</td>\n",
       "      <td>4.0</td>\n",
       "      <td>NaN</td>\n",
       "      <td>...</td>\n",
       "      <td>43.0</td>\n",
       "      <td>22538.0</td>\n",
       "      <td>39.0</td>\n",
       "      <td>245.0</td>\n",
       "      <td>37.0</td>\n",
       "      <td>24.0</td>\n",
       "      <td>19.0</td>\n",
       "      <td>225.0</td>\n",
       "      <td>New Year's Day</td>\n",
       "      <td>New Year's Day</td>\n",
       "    </tr>\n",
       "  </tbody>\n",
       "</table>\n",
       "<p>5 rows × 22 columns</p>\n",
       "</div>"
      ],
      "text/plain": [
       "        ID                    Date                Primary Type  \\\n",
       "0  5462733  01/01/2001 01:00:00 AM  OFFENSE INVOLVING CHILDREN   \n",
       "1  1311123  01/01/2001 01:00:00 AM             CRIMINAL DAMAGE   \n",
       "2  1311144  01/01/2001 01:00:00 AM             CRIMINAL DAMAGE   \n",
       "3  1311226  01/01/2001 01:00:00 AM             CRIMINAL DAMAGE   \n",
       "4  1311269  01/01/2001 01:00:00 AM             CRIMINAL DAMAGE   \n",
       "\n",
       "                     Description Location Description  Arrest  Domestic  Beat  \\\n",
       "0  AGG CRIM SEX ABUSE FAM MEMBER            RESIDENCE   False      True   233   \n",
       "1                     TO VEHICLE               STREET   False     False  1223   \n",
       "2                     TO VEHICLE               STREET   False     False  2413   \n",
       "3                     TO VEHICLE               STREET   False     False  1913   \n",
       "4                    TO PROPERTY            RESIDENCE   False     False   421   \n",
       "\n",
       "   District  Ward  ...  Historical Wards 2003-2015  Zip Codes  \\\n",
       "0       2.0  20.0  ...                        53.0    22260.0   \n",
       "1      12.0   NaN  ...                         8.0    14920.0   \n",
       "2      24.0   NaN  ...                        42.0     4450.0   \n",
       "3      19.0   NaN  ...                        13.0    21538.0   \n",
       "4       4.0   NaN  ...                        43.0    22538.0   \n",
       "\n",
       "   Community Areas  Census Tracts  Wards  Boundaries - ZIP Codes  \\\n",
       "0              7.0          403.0    4.0                    60.0   \n",
       "1             33.0            4.0   26.0                    43.0   \n",
       "2             20.0           53.0   27.0                    50.0   \n",
       "3             46.0          646.0   18.0                    39.0   \n",
       "4             39.0          245.0   37.0                    24.0   \n",
       "\n",
       "   Police Districts  Police Beats      US Holiday      MD Holiday  \n",
       "0              24.0         268.0  New Year's Day  New Year's Day  \n",
       "1              15.0         121.0  New Year's Day  New Year's Day  \n",
       "2              11.0          52.0  New Year's Day  New Year's Day  \n",
       "3               5.0          21.0  New Year's Day  New Year's Day  \n",
       "4              19.0         225.0  New Year's Day  New Year's Day  \n",
       "\n",
       "[5 rows x 22 columns]"
      ]
     },
     "execution_count": 11,
     "metadata": {},
     "output_type": "execute_result"
    }
   ],
   "source": [
    "## Saving both holiday types as columns\n",
    "df[\"US Holiday\"] = [us_holidays.get(day) for day in df['Date']]\n",
    "df['MD Holiday'] = [md_holidays.get(day) for day in df['Date']]\n",
    "df.head()"
   ]
  },
  {
   "cell_type": "code",
   "execution_count": 12,
   "id": "938f6424",
   "metadata": {},
   "outputs": [
    {
     "data": {
      "text/plain": [
       "True    115\n",
       "Name: Is_Holiday, dtype: int64"
      ]
     },
     "execution_count": 12,
     "metadata": {},
     "output_type": "execute_result"
    }
   ],
   "source": [
    "## Saving a binary is holiday feature\n",
    "df['Is_Holiday'] = df['US Holiday'].notna()\n",
    "df['Is_Holiday'].value_counts()"
   ]
  },
  {
   "cell_type": "markdown",
   "id": "f737d9f6",
   "metadata": {},
   "source": [
    "# Task\n",
    "Your task is to answer a series of questions about trends in crimes in Chicago for a reporter for the local newspaper.\n",
    "\n",
    "- Stakeholder Questions to Answer (pick at least 3 topics) Select 3 or more of the following topics to analyze:"
   ]
  },
  {
   "cell_type": "markdown",
   "id": "e42092d8",
   "metadata": {},
   "source": [
    "## Topic 1) Comparing Police Districts:\n",
    "- Which district has the most crimes? Which has the least?"
   ]
  },
  {
   "cell_type": "code",
   "execution_count": null,
   "id": "5ef4eddb",
   "metadata": {},
   "outputs": [],
   "source": []
  },
  {
   "cell_type": "markdown",
   "id": "207e8a92",
   "metadata": {},
   "source": [
    "## Topic 2) Crimes Across the Years:\n",
    "- Is the total number of crimes increasing or decreasing across the years?\n",
    "- Are there any individual crimes that are doing the opposite (e.g decreasing when overall crime is increasing or vice-versa)?"
   ]
  },
  {
   "cell_type": "code",
   "execution_count": null,
   "id": "2662d84b",
   "metadata": {},
   "outputs": [],
   "source": []
  },
  {
   "cell_type": "markdown",
   "id": "c12e93f1",
   "metadata": {},
   "source": [
    "## Topic 3) Comparing AM vs. PM Rush Hour:\n",
    "- Are crimes more common during AM rush hour or PM rush hour?\n",
    "    - You can consider any crime that occurred between 7 AM - 10 AM as AM rush hour\n",
    "    - You can consider any crime that occurred between 4 -7 PM as PM rush hour.\n",
    "- What are the top 5 most common crimes during AM rush hour? What are the top 5 most common crimes during PM rush hour?\n",
    "- Are Motor Vehicle Thefts more common during AM rush hour or PM Rush Hour?"
   ]
  },
  {
   "cell_type": "code",
   "execution_count": null,
   "id": "97768b00",
   "metadata": {},
   "outputs": [],
   "source": []
  },
  {
   "cell_type": "markdown",
   "id": "8437bc46",
   "metadata": {},
   "source": [
    "## Topic 4) Comparing Months:\n",
    "- What months have the most crime? What months have the least?\n",
    "- Are there any individual crimes that do not follow this pattern? If so, which crimes?"
   ]
  },
  {
   "cell_type": "code",
   "execution_count": null,
   "id": "2587099e",
   "metadata": {},
   "outputs": [],
   "source": []
  },
  {
   "cell_type": "markdown",
   "id": "5298f5e0",
   "metadata": {},
   "source": [
    "## Topic 5) Comparing Holidays:\n",
    "- Are there any holidays that show an increase in the # of crimes?\n",
    "- Are there any holidays that show a decrease in the # of crimes?"
   ]
  },
  {
   "cell_type": "code",
   "execution_count": null,
   "id": "a13cc874",
   "metadata": {},
   "outputs": [],
   "source": []
  }
 ],
 "metadata": {
  "kernelspec": {
   "display_name": "Python (dojo-env)",
   "language": "python",
   "name": "dojo-env"
  },
  "language_info": {
   "codemirror_mode": {
    "name": "ipython",
    "version": 3
   },
   "file_extension": ".py",
   "mimetype": "text/x-python",
   "name": "python",
   "nbconvert_exporter": "python",
   "pygments_lexer": "ipython3",
   "version": "3.9.15"
  },
  "toc": {
   "base_numbering": 1,
   "nav_menu": {},
   "number_sections": true,
   "sideBar": true,
   "skip_h1_title": false,
   "title_cell": "Table of Contents",
   "title_sidebar": "Contents",
   "toc_cell": false,
   "toc_position": {},
   "toc_section_display": true,
   "toc_window_display": false
  }
 },
 "nbformat": 4,
 "nbformat_minor": 5
}
